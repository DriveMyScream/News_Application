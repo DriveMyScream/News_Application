{
 "cells": [
  {
   "cell_type": "code",
   "execution_count": null,
   "metadata": {
    "execution": {
     "iopub.execute_input": "2023-01-25T11:04:43.786388Z",
     "iopub.status.busy": "2023-01-25T11:04:43.786015Z",
     "iopub.status.idle": "2023-01-25T11:04:43.791223Z",
     "shell.execute_reply": "2023-01-25T11:04:43.790198Z",
     "shell.execute_reply.started": "2023-01-25T11:04:43.786356Z"
    }
   },
   "outputs": [],
   "source": [
    "import pandas as pd\n",
    "import numpy as np\n",
    "import tensorflow as tf\n",
    "import string\n",
    "import re\n"
   ]
  },
  {
   "cell_type": "code",
   "execution_count": null,
   "metadata": {
    "execution": {
     "iopub.execute_input": "2023-01-25T11:04:43.807328Z",
     "iopub.status.busy": "2023-01-25T11:04:43.805306Z",
     "iopub.status.idle": "2023-01-25T11:04:43.891633Z",
     "shell.execute_reply": "2023-01-25T11:04:43.890633Z",
     "shell.execute_reply.started": "2023-01-25T11:04:43.807299Z"
    }
   },
   "outputs": [],
   "source": [
    "data = pd.read_csv('/kaggle/input/us-crime-data/US_Crime_Data.csv')\n",
    "data.sample(10)"
   ]
  },
  {
   "cell_type": "code",
   "execution_count": null,
   "metadata": {
    "execution": {
     "iopub.execute_input": "2023-01-25T11:04:43.894155Z",
     "iopub.status.busy": "2023-01-25T11:04:43.893527Z",
     "iopub.status.idle": "2023-01-25T11:04:43.905376Z",
     "shell.execute_reply": "2023-01-25T11:04:43.904125Z",
     "shell.execute_reply.started": "2023-01-25T11:04:43.894115Z"
    }
   },
   "outputs": [],
   "source": [
    "data.isna().sum()"
   ]
  },
  {
   "cell_type": "markdown",
   "metadata": {},
   "source": [
    "## For this model we just need headlines"
   ]
  },
  {
   "cell_type": "code",
   "execution_count": null,
   "metadata": {
    "execution": {
     "iopub.execute_input": "2023-01-25T11:04:43.907733Z",
     "iopub.status.busy": "2023-01-25T11:04:43.907277Z",
     "iopub.status.idle": "2023-01-25T11:04:43.921431Z",
     "shell.execute_reply": "2023-01-25T11:04:43.920184Z",
     "shell.execute_reply.started": "2023-01-25T11:04:43.907676Z"
    }
   },
   "outputs": [],
   "source": [
    "df = data[['Title']]\n",
    "df = df.dropna().reset_index(drop = True)\n",
    "df.head()"
   ]
  },
  {
   "cell_type": "code",
   "execution_count": null,
   "metadata": {
    "execution": {
     "iopub.execute_input": "2023-01-25T11:04:43.924457Z",
     "iopub.status.busy": "2023-01-25T11:04:43.924103Z",
     "iopub.status.idle": "2023-01-25T11:04:43.930570Z",
     "shell.execute_reply": "2023-01-25T11:04:43.929494Z",
     "shell.execute_reply.started": "2023-01-25T11:04:43.924423Z"
    }
   },
   "outputs": [],
   "source": [
    "df['Title'][123]"
   ]
  },
  {
   "cell_type": "code",
   "execution_count": null,
   "metadata": {
    "execution": {
     "iopub.execute_input": "2023-01-25T11:04:43.932485Z",
     "iopub.status.busy": "2023-01-25T11:04:43.932077Z",
     "iopub.status.idle": "2023-01-25T11:04:43.941443Z",
     "shell.execute_reply": "2023-01-25T11:04:43.940467Z",
     "shell.execute_reply.started": "2023-01-25T11:04:43.932448Z"
    }
   },
   "outputs": [],
   "source": [
    "df.shape"
   ]
  },
  {
   "cell_type": "markdown",
   "metadata": {},
   "source": [
    "# Removing Punctuations"
   ]
  },
  {
   "cell_type": "code",
   "execution_count": null,
   "metadata": {
    "execution": {
     "iopub.execute_input": "2023-01-25T11:04:43.943883Z",
     "iopub.status.busy": "2023-01-25T11:04:43.942887Z",
     "iopub.status.idle": "2023-01-25T11:04:43.951056Z",
     "shell.execute_reply": "2023-01-25T11:04:43.950020Z",
     "shell.execute_reply.started": "2023-01-25T11:04:43.943849Z"
    }
   },
   "outputs": [],
   "source": [
    "def clean_text(df):\n",
    "    df['Title'] = df['Title'].apply(lambda x : x.lower())\n",
    "    tokens = df['Title'].str.replace('[{}]'.format(string.punctuation), '')\n",
    "    return tokens"
   ]
  },
  {
   "cell_type": "code",
   "execution_count": null,
   "metadata": {
    "execution": {
     "iopub.execute_input": "2023-01-25T11:04:43.953327Z",
     "iopub.status.busy": "2023-01-25T11:04:43.952415Z",
     "iopub.status.idle": "2023-01-25T11:04:43.971600Z",
     "shell.execute_reply": "2023-01-25T11:04:43.970602Z",
     "shell.execute_reply.started": "2023-01-25T11:04:43.953232Z"
    }
   },
   "outputs": [],
   "source": [
    "tokens = clean_text(df)"
   ]
  },
  {
   "cell_type": "code",
   "execution_count": null,
   "metadata": {
    "execution": {
     "iopub.execute_input": "2023-01-25T11:04:43.973778Z",
     "iopub.status.busy": "2023-01-25T11:04:43.973107Z",
     "iopub.status.idle": "2023-01-25T11:04:43.985041Z",
     "shell.execute_reply": "2023-01-25T11:04:43.983874Z",
     "shell.execute_reply.started": "2023-01-25T11:04:43.973744Z"
    }
   },
   "outputs": [],
   "source": [
    "tokens"
   ]
  },
  {
   "cell_type": "code",
   "execution_count": null,
   "metadata": {
    "execution": {
     "iopub.execute_input": "2023-01-25T11:04:43.987316Z",
     "iopub.status.busy": "2023-01-25T11:04:43.986973Z",
     "iopub.status.idle": "2023-01-25T11:04:43.996849Z",
     "shell.execute_reply": "2023-01-25T11:04:43.995664Z",
     "shell.execute_reply.started": "2023-01-25T11:04:43.987282Z"
    }
   },
   "outputs": [],
   "source": [
    "len(set(tokens))"
   ]
  },
  {
   "cell_type": "markdown",
   "metadata": {},
   "source": [
    "# Tokenizing"
   ]
  },
  {
   "cell_type": "code",
   "execution_count": null,
   "metadata": {
    "execution": {
     "iopub.execute_input": "2023-01-25T11:58:58.578486Z",
     "iopub.status.busy": "2023-01-25T11:58:58.578077Z",
     "iopub.status.idle": "2023-01-25T11:58:58.773428Z",
     "shell.execute_reply": "2023-01-25T11:58:58.772392Z",
     "shell.execute_reply.started": "2023-01-25T11:58:58.578430Z"
    }
   },
   "outputs": [],
   "source": [
    "tokenizer = tf.keras.preprocessing.text.Tokenizer()\n",
    "tokenizer.fit_on_texts(tokens)\n",
    "seq = tokenizer.texts_to_sequences(tokens)"
   ]
  },
  {
   "cell_type": "code",
   "execution_count": null,
   "metadata": {
    "execution": {
     "iopub.execute_input": "2023-01-25T11:59:03.639539Z",
     "iopub.status.busy": "2023-01-25T11:59:03.639180Z",
     "iopub.status.idle": "2023-01-25T11:59:03.648387Z",
     "shell.execute_reply": "2023-01-25T11:59:03.647293Z",
     "shell.execute_reply.started": "2023-01-25T11:59:03.639509Z"
    }
   },
   "outputs": [],
   "source": [
    "seq[:10]"
   ]
  },
  {
   "cell_type": "markdown",
   "metadata": {},
   "source": [
    "# Creating input and output data list"
   ]
  },
  {
   "cell_type": "code",
   "execution_count": null,
   "metadata": {
    "execution": {
     "iopub.execute_input": "2023-01-25T12:06:34.585875Z",
     "iopub.status.busy": "2023-01-25T12:06:34.584844Z",
     "iopub.status.idle": "2023-01-25T12:06:34.838249Z",
     "shell.execute_reply": "2023-01-25T12:06:34.837088Z",
     "shell.execute_reply.started": "2023-01-25T12:06:34.585829Z"
    }
   },
   "outputs": [],
   "source": [
    "x = []\n",
    "y = []\n",
    "total_words_drop = 0\n",
    "for i in seq:\n",
    "    if len(i) > 1:\n",
    "        for j in range(1, len(i)):\n",
    "            x.append(i[:j])\n",
    "            y.append(i[j])\n",
    "            \n",
    "    else : \n",
    "        total_words_drop +=1\n",
    "print('Total Words Dropped : {}'.format(total_words_drop))"
   ]
  },
  {
   "cell_type": "code",
   "execution_count": null,
   "metadata": {
    "execution": {
     "iopub.execute_input": "2023-01-25T12:07:06.370522Z",
     "iopub.status.busy": "2023-01-25T12:07:06.369965Z",
     "iopub.status.idle": "2023-01-25T12:07:06.377270Z",
     "shell.execute_reply": "2023-01-25T12:07:06.376279Z",
     "shell.execute_reply.started": "2023-01-25T12:07:06.370486Z"
    }
   },
   "outputs": [],
   "source": [
    "y[: 10]"
   ]
  },
  {
   "cell_type": "markdown",
   "metadata": {},
   "source": [
    "# Padding sequences"
   ]
  },
  {
   "cell_type": "code",
   "execution_count": null,
   "metadata": {
    "execution": {
     "iopub.execute_input": "2023-01-25T12:08:15.276035Z",
     "iopub.status.busy": "2023-01-25T12:08:15.275658Z",
     "iopub.status.idle": "2023-01-25T12:08:15.394972Z",
     "shell.execute_reply": "2023-01-25T12:08:15.393998Z",
     "shell.execute_reply.started": "2023-01-25T12:08:15.275999Z"
    }
   },
   "outputs": [],
   "source": [
    "x = tf.keras.preprocessing.sequence.pad_sequences(x)"
   ]
  },
  {
   "cell_type": "code",
   "execution_count": null,
   "metadata": {
    "execution": {
     "iopub.execute_input": "2023-01-25T12:08:36.605192Z",
     "iopub.status.busy": "2023-01-25T12:08:36.604570Z",
     "iopub.status.idle": "2023-01-25T12:08:36.611061Z",
     "shell.execute_reply": "2023-01-25T12:08:36.610137Z",
     "shell.execute_reply.started": "2023-01-25T12:08:36.605153Z"
    }
   },
   "outputs": [],
   "source": [
    "x.shape"
   ]
  },
  {
   "cell_type": "markdown",
   "metadata": {},
   "source": [
    "# Shaping y same as x"
   ]
  },
  {
   "cell_type": "code",
   "execution_count": null,
   "metadata": {
    "execution": {
     "iopub.execute_input": "2023-01-25T12:09:06.671271Z",
     "iopub.status.busy": "2023-01-25T12:09:06.670901Z",
     "iopub.status.idle": "2023-01-25T12:09:06.831884Z",
     "shell.execute_reply": "2023-01-25T12:09:06.830855Z",
     "shell.execute_reply.started": "2023-01-25T12:09:06.671240Z"
    }
   },
   "outputs": [],
   "source": [
    "y = tf.keras.utils.to_categorical(y)"
   ]
  },
  {
   "cell_type": "code",
   "execution_count": null,
   "metadata": {
    "execution": {
     "iopub.execute_input": "2023-01-25T12:09:11.760244Z",
     "iopub.status.busy": "2023-01-25T12:09:11.759550Z",
     "iopub.status.idle": "2023-01-25T12:09:11.767875Z",
     "shell.execute_reply": "2023-01-25T12:09:11.766740Z",
     "shell.execute_reply.started": "2023-01-25T12:09:11.760198Z"
    }
   },
   "outputs": [],
   "source": [
    "y.shape"
   ]
  },
  {
   "cell_type": "markdown",
   "metadata": {},
   "source": [
    "# Vocab Size : total no. of unique words"
   ]
  },
  {
   "cell_type": "code",
   "execution_count": null,
   "metadata": {
    "execution": {
     "iopub.execute_input": "2023-01-25T12:09:50.870274Z",
     "iopub.status.busy": "2023-01-25T12:09:50.869906Z",
     "iopub.status.idle": "2023-01-25T12:09:50.876653Z",
     "shell.execute_reply": "2023-01-25T12:09:50.875558Z",
     "shell.execute_reply.started": "2023-01-25T12:09:50.870243Z"
    }
   },
   "outputs": [],
   "source": [
    "vocab_size = len(tokenizer.word_index) + 1\n",
    "vocab_size"
   ]
  },
  {
   "cell_type": "markdown",
   "metadata": {},
   "source": [
    "# LSTM Model"
   ]
  },
  {
   "cell_type": "code",
   "execution_count": null,
   "metadata": {
    "execution": {
     "iopub.execute_input": "2023-01-25T12:17:06.375480Z",
     "iopub.status.busy": "2023-01-25T12:17:06.375114Z",
     "iopub.status.idle": "2023-01-25T12:17:07.215342Z",
     "shell.execute_reply": "2023-01-25T12:17:07.214400Z",
     "shell.execute_reply.started": "2023-01-25T12:17:06.375449Z"
    }
   },
   "outputs": [],
   "source": [
    "model = tf.keras.Sequential([tf.keras.layers.Embedding(vocab_size,49 ),\n",
    "                            tf.keras.layers.LSTM(100, return_sequences = True),\n",
    "                            tf.keras.layers.LSTM(100),\n",
    "                            tf.keras.layers.Dense(100, activation = 'relu'),\n",
    "                            tf.keras.layers.Dense(vocab_size, activation = 'softmax')])"
   ]
  },
  {
   "cell_type": "code",
   "execution_count": null,
   "metadata": {
    "execution": {
     "iopub.execute_input": "2023-01-25T12:17:10.464519Z",
     "iopub.status.busy": "2023-01-25T12:17:10.464126Z",
     "iopub.status.idle": "2023-01-25T12:17:10.471169Z",
     "shell.execute_reply": "2023-01-25T12:17:10.470124Z",
     "shell.execute_reply.started": "2023-01-25T12:17:10.464488Z"
    }
   },
   "outputs": [],
   "source": [
    "model.summary()"
   ]
  },
  {
   "cell_type": "code",
   "execution_count": null,
   "metadata": {
    "execution": {
     "iopub.execute_input": "2023-01-25T12:20:43.876110Z",
     "iopub.status.busy": "2023-01-25T12:20:43.875096Z",
     "iopub.status.idle": "2023-01-25T12:20:43.891211Z",
     "shell.execute_reply": "2023-01-25T12:20:43.890042Z",
     "shell.execute_reply.started": "2023-01-25T12:20:43.876073Z"
    }
   },
   "outputs": [],
   "source": [
    "model.compile(loss  = 'categorical_crossentropy',\n",
    "             optimizer = 'adam',\n",
    "             metrics = ['accuracy'],\n",
    "             )"
   ]
  },
  {
   "cell_type": "code",
   "execution_count": null,
   "metadata": {
    "execution": {
     "iopub.execute_input": "2023-01-25T12:22:51.660251Z",
     "iopub.status.busy": "2023-01-25T12:22:51.659888Z",
     "iopub.status.idle": "2023-01-25T12:31:17.104398Z",
     "shell.execute_reply": "2023-01-25T12:31:17.103385Z",
     "shell.execute_reply.started": "2023-01-25T12:22:51.660221Z"
    }
   },
   "outputs": [],
   "source": [
    "history = model.fit(x,y,\n",
    "                   epochs = 100,\n",
    "                    batch_size = 256,\n",
    "                    callbacks = tf.keras.callbacks.EarlyStopping(monitor = 'val_loss',\n",
    "                                                               patience = 5,\n",
    "                                                               restore_best_weights = True))"
   ]
  },
  {
   "cell_type": "markdown",
   "metadata": {},
   "source": [
    "# Saving model"
   ]
  },
  {
   "cell_type": "code",
   "execution_count": null,
   "metadata": {
    "execution": {
     "iopub.execute_input": "2023-01-25T12:31:17.874072Z",
     "iopub.status.busy": "2023-01-25T12:31:17.873722Z",
     "iopub.status.idle": "2023-01-25T12:31:17.931214Z",
     "shell.execute_reply": "2023-01-25T12:31:17.930232Z",
     "shell.execute_reply.started": "2023-01-25T12:31:17.874035Z"
    }
   },
   "outputs": [],
   "source": [
    "model.save('model.h5')"
   ]
  },
  {
   "cell_type": "markdown",
   "metadata": {},
   "source": [
    "# Vocab Array : list of all the unique words"
   ]
  },
  {
   "cell_type": "code",
   "execution_count": null,
   "metadata": {
    "execution": {
     "iopub.execute_input": "2023-01-25T12:33:09.510831Z",
     "iopub.status.busy": "2023-01-25T12:33:09.510444Z",
     "iopub.status.idle": "2023-01-25T12:33:09.519935Z",
     "shell.execute_reply": "2023-01-25T12:33:09.518629Z",
     "shell.execute_reply.started": "2023-01-25T12:33:09.510800Z"
    }
   },
   "outputs": [],
   "source": [
    "vocab_array = np.array(list(tokenizer.word_index.keys()))\n",
    "vocab_array"
   ]
  },
  {
   "cell_type": "markdown",
   "metadata": {},
   "source": [
    "# Final Function for Predictions"
   ]
  },
  {
   "cell_type": "code",
   "execution_count": null,
   "metadata": {
    "execution": {
     "iopub.execute_input": "2023-01-25T12:35:56.936456Z",
     "iopub.status.busy": "2023-01-25T12:35:56.936093Z",
     "iopub.status.idle": "2023-01-25T12:35:56.944771Z",
     "shell.execute_reply": "2023-01-25T12:35:56.941800Z",
     "shell.execute_reply.started": "2023-01-25T12:35:56.936425Z"
    }
   },
   "outputs": [],
   "source": [
    "def make_predictions(text, n_words):\n",
    "    for i in range(n_words):\n",
    "        text_tokenize = tokenizer.texts_to_sequences([text])\n",
    "        text_padding  = tf.keras.preprocessing.sequence.pad_sequences(text_tokenize, maxlen = 49)\n",
    "        prediction = np.squeeze(np.argmax(model.predict(text_padding), axis = -1))\n",
    "        prediction = str(vocab_array[prediction - 1])\n",
    "        text += \" \" + prediction\n",
    "    return text"
   ]
  },
  {
   "cell_type": "markdown",
   "metadata": {},
   "source": [
    "# Testing Model"
   ]
  },
  {
   "cell_type": "code",
   "execution_count": null,
   "metadata": {
    "execution": {
     "iopub.execute_input": "2023-01-25T12:35:58.280290Z",
     "iopub.status.busy": "2023-01-25T12:35:58.279928Z",
     "iopub.status.idle": "2023-01-25T12:35:58.465619Z",
     "shell.execute_reply": "2023-01-25T12:35:58.464678Z",
     "shell.execute_reply.started": "2023-01-25T12:35:58.280260Z"
    }
   },
   "outputs": [],
   "source": [
    "make_predictions('california',5)"
   ]
  },
  {
   "cell_type": "code",
   "execution_count": null,
   "metadata": {
    "execution": {
     "iopub.execute_input": "2023-01-25T12:36:23.620731Z",
     "iopub.status.busy": "2023-01-25T12:36:23.620339Z",
     "iopub.status.idle": "2023-01-25T12:36:23.948651Z",
     "shell.execute_reply": "2023-01-25T12:36:23.947618Z",
     "shell.execute_reply.started": "2023-01-25T12:36:23.620675Z"
    }
   },
   "outputs": [],
   "source": [
    "make_predictions('new york',8)"
   ]
  },
  {
   "cell_type": "code",
   "execution_count": null,
   "metadata": {
    "execution": {
     "iopub.execute_input": "2023-01-25T12:37:09.820437Z",
     "iopub.status.busy": "2023-01-25T12:37:09.820082Z",
     "iopub.status.idle": "2023-01-25T12:37:10.130027Z",
     "shell.execute_reply": "2023-01-25T12:37:10.129172Z",
     "shell.execute_reply.started": "2023-01-25T12:37:09.820408Z"
    }
   },
   "outputs": [],
   "source": [
    "make_predictions('highway',8)"
   ]
  },
  {
   "cell_type": "markdown",
   "metadata": {},
   "source": [
    "> Its so fun to get prediction !\n",
    "\n",
    "# Thanks!"
   ]
  }
 ],
 "metadata": {
  "kernelspec": {
   "display_name": "Python 3 (ipykernel)",
   "language": "python",
   "name": "python3"
  },
  "language_info": {
   "codemirror_mode": {
    "name": "ipython",
    "version": 3
   },
   "file_extension": ".py",
   "mimetype": "text/x-python",
   "name": "python",
   "nbconvert_exporter": "python",
   "pygments_lexer": "ipython3",
   "version": "3.11.3"
  }
 },
 "nbformat": 4,
 "nbformat_minor": 4
}
